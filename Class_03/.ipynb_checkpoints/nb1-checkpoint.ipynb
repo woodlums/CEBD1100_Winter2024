{
 "cells": [
  {
   "cell_type": "code",
   "execution_count": 1,
   "id": "5cc9e3d9-b0cb-403a-9f65-347c6aa8921d",
   "metadata": {
    "tags": []
   },
   "outputs": [],
   "source": [
    "a=3"
   ]
  },
  {
   "cell_type": "code",
   "execution_count": 2,
   "id": "ba905021-3b8c-4e8a-85fa-881cc5a736fd",
   "metadata": {
    "tags": []
   },
   "outputs": [],
   "source": [
    "b=9"
   ]
  },
  {
   "cell_type": "code",
   "execution_count": 3,
   "id": "2aa60b0e-2fc6-4fce-9e42-0ec426ec4c1a",
   "metadata": {
    "tags": []
   },
   "outputs": [
    {
     "name": "stdout",
     "output_type": "stream",
     "text": [
      "12\n"
     ]
    }
   ],
   "source": [
    "print(a+b)"
   ]
  },
  {
   "cell_type": "code",
   "execution_count": 4,
   "id": "77974703-d350-4d18-8eda-9dc43b453692",
   "metadata": {
    "tags": []
   },
   "outputs": [
    {
     "name": "stdout",
     "output_type": "stream",
     "text": [
      "The value is 0000003.00\n"
     ]
    }
   ],
   "source": [
    "print(\"The value is {0:010.2f}\".format(a))"
   ]
  },
  {
   "cell_type": "code",
   "execution_count": 5,
   "id": "56348a69-ded3-4c09-b8a6-51dc92aed8cd",
   "metadata": {
    "tags": []
   },
   "outputs": [],
   "source": [
    "my_string = \"Brendan\""
   ]
  },
  {
   "cell_type": "code",
   "execution_count": 6,
   "id": "3e348043-7078-4e03-ad3d-cd300a0edc30",
   "metadata": {
    "tags": []
   },
   "outputs": [
    {
     "name": "stdout",
     "output_type": "stream",
     "text": [
      "7\n"
     ]
    }
   ],
   "source": [
    "print(len(my_string))"
   ]
  },
  {
   "cell_type": "code",
   "execution_count": 7,
   "id": "d6e24cf1-2bb5-4f0c-9859-347db91f3927",
   "metadata": {
    "tags": []
   },
   "outputs": [
    {
     "name": "stdout",
     "output_type": "stream",
     "text": [
      "BRENDAN\n"
     ]
    }
   ],
   "source": [
    "print(my_string.upper())\n"
   ]
  },
  {
   "cell_type": "code",
   "execution_count": 8,
   "id": "b1c7344c-b541-42f1-bc6e-27517576d58d",
   "metadata": {
    "jupyter": {
     "source_hidden": true
    },
    "tags": []
   },
   "outputs": [
    {
     "name": "stdout",
     "output_type": "stream",
     "text": [
      "brendan\n"
     ]
    }
   ],
   "source": [
    "print(my_string.lower())"
   ]
  },
  {
   "cell_type": "code",
   "execution_count": 9,
   "id": "51c24741-bb5f-4d62-ba1b-9e3c584d6e3b",
   "metadata": {
    "jupyter": {
     "source_hidden": true
    },
    "tags": []
   },
   "outputs": [
    {
     "ename": "AttributeError",
     "evalue": "'str' object has no attribute 'caps'",
     "output_type": "error",
     "traceback": [
      "\u001b[1;31m---------------------------------------------------------------------------\u001b[0m",
      "\u001b[1;31mAttributeError\u001b[0m                            Traceback (most recent call last)",
      "Cell \u001b[1;32mIn[9], line 1\u001b[0m\n\u001b[1;32m----> 1\u001b[0m \u001b[38;5;28mprint\u001b[39m(my_string\u001b[38;5;241m.\u001b[39mcaps())\n",
      "\u001b[1;31mAttributeError\u001b[0m: 'str' object has no attribute 'caps'"
     ]
    }
   ],
   "source": [
    "print(my_string.caps())"
   ]
  },
  {
   "cell_type": "code",
   "execution_count": 10,
   "id": "722ff80f-852d-4072-95fd-fd9aeaac8adf",
   "metadata": {
    "tags": []
   },
   "outputs": [],
   "source": [
    "password = \"    p4ssword   \""
   ]
  },
  {
   "cell_type": "code",
   "execution_count": 11,
   "id": "f6459d7d-c6d4-4bc0-90e4-b0b5d35e5b07",
   "metadata": {
    "tags": []
   },
   "outputs": [],
   "source": [
    "saved_pass = \"p4ssword\""
   ]
  },
  {
   "cell_type": "code",
   "execution_count": 14,
   "id": "e047df55-d8d6-4c86-bfc9-cc57555b16a4",
   "metadata": {
    "tags": []
   },
   "outputs": [
    {
     "data": {
      "text/plain": [
       "False"
      ]
     },
     "execution_count": 14,
     "metadata": {},
     "output_type": "execute_result"
    }
   ],
   "source": [
    "password == saved_pass"
   ]
  },
  {
   "cell_type": "code",
   "execution_count": 13,
   "id": "a398cd9a-281e-43a4-972a-8036ae87c21a",
   "metadata": {
    "tags": []
   },
   "outputs": [
    {
     "data": {
      "text/plain": [
       "True"
      ]
     },
     "execution_count": 13,
     "metadata": {},
     "output_type": "execute_result"
    }
   ],
   "source": [
    "password.strip() == saved_pass"
   ]
  },
  {
   "cell_type": "code",
   "execution_count": 15,
   "id": "3252a60b-bb2e-4660-8a21-05093ab9e0a9",
   "metadata": {
    "tags": []
   },
   "outputs": [],
   "source": [
    "input_string = \"2022 2022 2022\""
   ]
  },
  {
   "cell_type": "code",
   "execution_count": 17,
   "id": "a0b9afa7-f0aa-4be7-803a-bd4d29aebe95",
   "metadata": {
    "tags": []
   },
   "outputs": [
    {
     "name": "stdout",
     "output_type": "stream",
     "text": [
      "XXXX XXXX XXXX\n"
     ]
    }
   ],
   "source": [
    "print(input_string.replace(\"2022\", \"XXXX\"))"
   ]
  },
  {
   "cell_type": "code",
   "execution_count": 18,
   "id": "aae116eb-d8b6-44a2-803b-afe2f4d571e2",
   "metadata": {
    "tags": []
   },
   "outputs": [],
   "source": [
    "from decimal import Decimal"
   ]
  },
  {
   "cell_type": "code",
   "execution_count": 19,
   "id": "570b411a-780c-4d06-af58-69f5d4a56cba",
   "metadata": {
    "tags": []
   },
   "outputs": [],
   "source": [
    "y = Decimal(\"100.567\")"
   ]
  },
  {
   "cell_type": "code",
   "execution_count": 22,
   "id": "31883b37-c631-4de3-a03a-4817c41efa98",
   "metadata": {
    "tags": []
   },
   "outputs": [
    {
     "name": "stdout",
     "output_type": "stream",
     "text": [
      "Value 100.57\n"
     ]
    }
   ],
   "source": [
    "print(\"Value {:.2f}\".format(y))"
   ]
  },
  {
   "cell_type": "code",
   "execution_count": null,
   "id": "37d2b499-89c6-4864-9f4b-bdb8ab09fd47",
   "metadata": {},
   "outputs": [],
   "source": []
  }
 ],
 "metadata": {
  "kernelspec": {
   "display_name": "Python 3 (ipykernel)",
   "language": "python",
   "name": "python3"
  },
  "language_info": {
   "codemirror_mode": {
    "name": "ipython",
    "version": 3
   },
   "file_extension": ".py",
   "mimetype": "text/x-python",
   "name": "python",
   "nbconvert_exporter": "python",
   "pygments_lexer": "ipython3",
   "version": "3.11.5"
  }
 },
 "nbformat": 4,
 "nbformat_minor": 5
}
