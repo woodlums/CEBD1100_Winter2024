{
 "cells": [
  {
   "cell_type": "code",
   "execution_count": 1,
   "id": "5e08bb18-5441-4ff1-ac44-6fd2a3640360",
   "metadata": {
    "tags": []
   },
   "outputs": [],
   "source": [
    "from decimal import Decimal"
   ]
  },
  {
   "cell_type": "code",
   "execution_count": 2,
   "id": "cdf904db-7e87-4880-bc85-2ca66eb765b7",
   "metadata": {
    "tags": []
   },
   "outputs": [],
   "source": [
    "a = \"10.123\""
   ]
  },
  {
   "cell_type": "code",
   "execution_count": 3,
   "id": "12438a8e-d45a-4c11-9327-bf6012b5ada5",
   "metadata": {
    "tags": []
   },
   "outputs": [],
   "source": [
    "b = Decimal(a)"
   ]
  },
  {
   "cell_type": "code",
   "execution_count": 4,
   "id": "7c8e0eeb-848f-42c8-9108-27aeebcae6da",
   "metadata": {
    "tags": []
   },
   "outputs": [
    {
     "data": {
      "text/plain": [
       "DecimalTuple(sign=0, digits=(1, 0, 1, 2, 3), exponent=-3)"
      ]
     },
     "execution_count": 4,
     "metadata": {},
     "output_type": "execute_result"
    }
   ],
   "source": [
    "b.as_tuple()"
   ]
  },
  {
   "cell_type": "code",
   "execution_count": 5,
   "id": "38345b8d-5b6a-4f2e-a9d8-5e31d5aad056",
   "metadata": {
    "tags": []
   },
   "outputs": [
    {
     "name": "stdout",
     "output_type": "stream",
     "text": [
      "Sorry your value must have exactly 2 decimal places.\n"
     ]
    }
   ],
   "source": [
    "if b.as_tuple().exponent != -2:\n",
    "    print(\"Sorry your value must have exactly 2 decimal places.\")\n",
    "else:\n",
    "    print(\"OK, got 2 decimal places\")"
   ]
  },
  {
   "cell_type": "code",
   "execution_count": null,
   "id": "b2ad9202-3379-46d7-8032-9d3a96ed102a",
   "metadata": {
    "tags": []
   },
   "outputs": [],
   "source": []
  }
 ],
 "metadata": {
  "kernelspec": {
   "display_name": "Python 3 (ipykernel)",
   "language": "python",
   "name": "python3"
  },
  "language_info": {
   "codemirror_mode": {
    "name": "ipython",
    "version": 3
   },
   "file_extension": ".py",
   "mimetype": "text/x-python",
   "name": "python",
   "nbconvert_exporter": "python",
   "pygments_lexer": "ipython3",
   "version": "3.11.5"
  }
 },
 "nbformat": 4,
 "nbformat_minor": 5
}
