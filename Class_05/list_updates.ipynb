{
 "cells": [
  {
   "cell_type": "code",
   "execution_count": 24,
   "id": "ba68924b-d8cf-48df-970e-ba4469c00edf",
   "metadata": {
    "tags": []
   },
   "outputs": [],
   "source": [
    "quiz_scores = [[\"Brendan\", 7, 6, 8], [\"Mary\",8, 4, 6], [\"Xavier\",2, 6, 7]]"
   ]
  },
  {
   "cell_type": "code",
   "execution_count": 18,
   "id": "8e3603a0-8ffe-4fbd-b393-03487e6da6a5",
   "metadata": {
    "tags": []
   },
   "outputs": [
    {
     "name": "stdout",
     "output_type": "stream",
     "text": [
      "Student:Brendan: [7, 6, 8]\n",
      "Student:Mary: [8, 6.5, 6]\n",
      "Student:Xavier: [6.5, 6, 7]\n"
     ]
    }
   ],
   "source": [
    "for student_rec in quiz_scores:\n",
    "    print(\"Student:\" + student_rec[0] + \": \", end=\"\")\n",
    "    scores = student_rec[1:4]\n",
    "    for idx in range(len(scores)):\n",
    "        if scores[idx] < 6:\n",
    "            scores[idx] = 6.5\n",
    "    print(scores)"
   ]
  },
  {
   "cell_type": "code",
   "execution_count": 19,
   "id": "89e938d1-8bbb-44b9-8fbd-cce3daf14da6",
   "metadata": {
    "tags": []
   },
   "outputs": [
    {
     "ename": "AttributeError",
     "evalue": "'list' object has no attribute 'max'",
     "output_type": "error",
     "traceback": [
      "\u001b[1;31m---------------------------------------------------------------------------\u001b[0m",
      "\u001b[1;31mAttributeError\u001b[0m                            Traceback (most recent call last)",
      "Cell \u001b[1;32mIn[19], line 1\u001b[0m\n\u001b[1;32m----> 1\u001b[0m quiz_scores[\u001b[38;5;241m1\u001b[39m]\u001b[38;5;241m.\u001b[39mmax()\n",
      "\u001b[1;31mAttributeError\u001b[0m: 'list' object has no attribute 'max'"
     ]
    }
   ],
   "source": [
    "quiz_scores[1].max()\n"
   ]
  },
  {
   "cell_type": "code",
   "execution_count": 20,
   "id": "776af529-f96f-481a-8cc6-6c95594950c1",
   "metadata": {
    "tags": []
   },
   "outputs": [
    {
     "ename": "TypeError",
     "evalue": "'>' not supported between instances of 'int' and 'str'",
     "output_type": "error",
     "traceback": [
      "\u001b[1;31m---------------------------------------------------------------------------\u001b[0m",
      "\u001b[1;31mTypeError\u001b[0m                                 Traceback (most recent call last)",
      "Cell \u001b[1;32mIn[20], line 1\u001b[0m\n\u001b[1;32m----> 1\u001b[0m \u001b[38;5;28mmax\u001b[39m(quiz_scores[\u001b[38;5;241m1\u001b[39m])\n",
      "\u001b[1;31mTypeError\u001b[0m: '>' not supported between instances of 'int' and 'str'"
     ]
    }
   ],
   "source": [
    "max(quiz_scores[1])"
   ]
  },
  {
   "cell_type": "code",
   "execution_count": 21,
   "id": "838f21f3-7158-41c3-bb3a-d6716516682d",
   "metadata": {
    "tags": []
   },
   "outputs": [],
   "source": [
    "vals = [65, 657,23, 1]"
   ]
  },
  {
   "cell_type": "code",
   "execution_count": 22,
   "id": "01df2b2a-dd9a-4fc7-afc0-e47d4b8da6b8",
   "metadata": {
    "tags": []
   },
   "outputs": [
    {
     "data": {
      "text/plain": [
       "657"
      ]
     },
     "execution_count": 22,
     "metadata": {},
     "output_type": "execute_result"
    }
   ],
   "source": [
    "max(vals)"
   ]
  },
  {
   "cell_type": "code",
   "execution_count": 23,
   "id": "26c27373-9b65-4258-9b29-94e4691b98f3",
   "metadata": {
    "tags": []
   },
   "outputs": [
    {
     "data": {
      "text/plain": [
       "746"
      ]
     },
     "execution_count": 23,
     "metadata": {},
     "output_type": "execute_result"
    }
   ],
   "source": [
    "sum(vals)"
   ]
  },
  {
   "cell_type": "code",
   "execution_count": null,
   "id": "d37f0e38-ab7b-4328-a908-11aa220a3ff7",
   "metadata": {},
   "outputs": [],
   "source": []
  }
 ],
 "metadata": {
  "kernelspec": {
   "display_name": "Python 3 (ipykernel)",
   "language": "python",
   "name": "python3"
  },
  "language_info": {
   "codemirror_mode": {
    "name": "ipython",
    "version": 3
   },
   "file_extension": ".py",
   "mimetype": "text/x-python",
   "name": "python",
   "nbconvert_exporter": "python",
   "pygments_lexer": "ipython3",
   "version": "3.11.5"
  }
 },
 "nbformat": 4,
 "nbformat_minor": 5
}
