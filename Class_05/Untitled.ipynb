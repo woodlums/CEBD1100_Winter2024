{
 "cells": [
  {
   "cell_type": "code",
   "execution_count": 1,
   "id": "48a1f930-a108-4df0-88b1-ee49f85acf2d",
   "metadata": {
    "tags": []
   },
   "outputs": [],
   "source": [
    "number_list = list(range(10))"
   ]
  },
  {
   "cell_type": "code",
   "execution_count": 2,
   "id": "220e358b-ddf2-4253-854c-bc448f8e9593",
   "metadata": {
    "tags": []
   },
   "outputs": [
    {
     "data": {
      "text/plain": [
       "[0, 1, 2, 3, 4, 5, 6, 7, 8, 9]"
      ]
     },
     "execution_count": 2,
     "metadata": {},
     "output_type": "execute_result"
    }
   ],
   "source": [
    "number_list"
   ]
  },
  {
   "cell_type": "code",
   "execution_count": 5,
   "id": "28d4f846-0e5e-4736-9baf-c9812c4faa75",
   "metadata": {
    "tags": []
   },
   "outputs": [],
   "source": [
    "list2 = [x + 1 for x in number_list]"
   ]
  },
  {
   "cell_type": "code",
   "execution_count": 6,
   "id": "b132d201-7882-4813-83c7-4f44bddeed97",
   "metadata": {
    "tags": []
   },
   "outputs": [
    {
     "data": {
      "text/plain": [
       "[1, 2, 3, 4, 5, 6, 7, 8, 9, 10]"
      ]
     },
     "execution_count": 6,
     "metadata": {},
     "output_type": "execute_result"
    }
   ],
   "source": [
    "list2"
   ]
  },
  {
   "cell_type": "code",
   "execution_count": 7,
   "id": "8b3d1bec-e35b-4a97-ba6a-ec7c90f53f0d",
   "metadata": {
    "tags": []
   },
   "outputs": [],
   "source": [
    "string_list = [str(x) for x in number_list]"
   ]
  },
  {
   "cell_type": "code",
   "execution_count": 8,
   "id": "3e6c33cf-ac73-41d5-9263-10bff7c0101e",
   "metadata": {
    "tags": []
   },
   "outputs": [
    {
     "data": {
      "text/plain": [
       "['0', '1', '2', '3', '4', '5', '6', '7', '8', '9']"
      ]
     },
     "execution_count": 8,
     "metadata": {},
     "output_type": "execute_result"
    }
   ],
   "source": [
    "string_list"
   ]
  },
  {
   "cell_type": "code",
   "execution_count": 9,
   "id": "e8d97d8c-fa41-4d88-8511-b101de020972",
   "metadata": {
    "tags": []
   },
   "outputs": [
    {
     "data": {
      "text/plain": [
       "[0, 1, 4, 9, 16, 25, 36, 49, 64, 81]"
      ]
     },
     "execution_count": 9,
     "metadata": {},
     "output_type": "execute_result"
    }
   ],
   "source": [
    "[value**2 for value in number_list]"
   ]
  },
  {
   "cell_type": "code",
   "execution_count": 10,
   "id": "e6051606-5e84-4dcf-b4f8-52884c2bb9ee",
   "metadata": {
    "tags": []
   },
   "outputs": [
    {
     "data": {
      "text/plain": [
       "[0, 1, 2, 3, 4, 5, 6, 7, 8, 9]"
      ]
     },
     "execution_count": 10,
     "metadata": {},
     "output_type": "execute_result"
    }
   ],
   "source": [
    "number_list"
   ]
  },
  {
   "cell_type": "code",
   "execution_count": 12,
   "id": "30ddce66-42d6-4dca-9c84-4304d719da1b",
   "metadata": {
    "tags": []
   },
   "outputs": [
    {
     "data": {
      "text/plain": [
       "5"
      ]
     },
     "execution_count": 12,
     "metadata": {},
     "output_type": "execute_result"
    }
   ],
   "source": [
    "number_list.index(5)"
   ]
  },
  {
   "cell_type": "code",
   "execution_count": 13,
   "id": "9b2ee819-b36d-4193-a385-a424d5eaa653",
   "metadata": {
    "tags": []
   },
   "outputs": [
    {
     "data": {
      "text/plain": [
       "[1, 2, 3, 4, 5, 6, 7, 8, 9, 10]"
      ]
     },
     "execution_count": 13,
     "metadata": {},
     "output_type": "execute_result"
    }
   ],
   "source": [
    "list2"
   ]
  },
  {
   "cell_type": "code",
   "execution_count": 14,
   "id": "2a11bffc-5562-4ff9-a284-68ab883f44b1",
   "metadata": {
    "tags": []
   },
   "outputs": [
    {
     "data": {
      "text/plain": [
       "4"
      ]
     },
     "execution_count": 14,
     "metadata": {},
     "output_type": "execute_result"
    }
   ],
   "source": [
    "list2.index(5)"
   ]
  },
  {
   "cell_type": "code",
   "execution_count": 15,
   "id": "521db236-b8cb-4798-b8ac-1816f0e7b618",
   "metadata": {
    "tags": []
   },
   "outputs": [],
   "source": [
    "a = [1, 2, 2, 3]"
   ]
  },
  {
   "cell_type": "code",
   "execution_count": 16,
   "id": "22743975-0fb5-45c9-8586-e430c0f8f728",
   "metadata": {
    "tags": []
   },
   "outputs": [
    {
     "data": {
      "text/plain": [
       "1"
      ]
     },
     "execution_count": 16,
     "metadata": {},
     "output_type": "execute_result"
    }
   ],
   "source": [
    "a.index(2)"
   ]
  },
  {
   "cell_type": "code",
   "execution_count": 17,
   "id": "7fcf6764-7453-4f12-b9ac-18f06e86b439",
   "metadata": {
    "tags": []
   },
   "outputs": [],
   "source": [
    "colours = [\"Red\", \"Green\", \"Blue\"]"
   ]
  },
  {
   "cell_type": "code",
   "execution_count": 18,
   "id": "6a7ef72d-eb6b-43e4-939c-b39fc09fd4f9",
   "metadata": {
    "tags": []
   },
   "outputs": [],
   "source": [
    "quiz_scores = [[\"Brendan\", 7, 6, 8], [\"Mary\",8, 4, 6], [\"Xavier\",2, 6, 7]]"
   ]
  },
  {
   "cell_type": "code",
   "execution_count": 20,
   "id": "2ba2eb93-56d1-4e6f-bb70-ed7a02171317",
   "metadata": {
    "tags": []
   },
   "outputs": [],
   "source": [
    "# Name, Score1, score2, score3.\n"
   ]
  },
  {
   "cell_type": "code",
   "execution_count": 21,
   "id": "462207eb-d235-44fd-a81f-75ac0284a546",
   "metadata": {
    "tags": []
   },
   "outputs": [],
   "source": [
    "name = quiz_scores[1][0]"
   ]
  },
  {
   "cell_type": "code",
   "execution_count": 22,
   "id": "04d75d4c-6939-4117-8c0a-eb183bbcf0b4",
   "metadata": {
    "tags": []
   },
   "outputs": [
    {
     "data": {
      "text/plain": [
       "'Mary'"
      ]
     },
     "execution_count": 22,
     "metadata": {},
     "output_type": "execute_result"
    }
   ],
   "source": [
    "name"
   ]
  },
  {
   "cell_type": "code",
   "execution_count": 23,
   "id": "ac291619-4bca-41ea-bc41-cd3495f86262",
   "metadata": {
    "tags": []
   },
   "outputs": [],
   "source": [
    "(name, score1, score2, score3) = quiz_scores[1]"
   ]
  },
  {
   "cell_type": "code",
   "execution_count": 24,
   "id": "9d5068a1-51b1-40c7-b870-06fa621aa709",
   "metadata": {
    "tags": []
   },
   "outputs": [
    {
     "data": {
      "text/plain": [
       "6"
      ]
     },
     "execution_count": 24,
     "metadata": {},
     "output_type": "execute_result"
    }
   ],
   "source": [
    "name\n",
    "score1\n",
    "score2\n",
    "score3"
   ]
  },
  {
   "cell_type": "code",
   "execution_count": 25,
   "id": "c718bdd2-6b24-4473-a1be-c0a8eb49f70a",
   "metadata": {
    "tags": []
   },
   "outputs": [
    {
     "data": {
      "text/plain": [
       "'Mary'"
      ]
     },
     "execution_count": 25,
     "metadata": {},
     "output_type": "execute_result"
    }
   ],
   "source": [
    "name"
   ]
  },
  {
   "cell_type": "code",
   "execution_count": 26,
   "id": "31454b4d-e4ea-4b8a-a017-abf2e2d402ed",
   "metadata": {
    "tags": []
   },
   "outputs": [
    {
     "data": {
      "text/plain": [
       "8"
      ]
     },
     "execution_count": 26,
     "metadata": {},
     "output_type": "execute_result"
    }
   ],
   "source": [
    "score1"
   ]
  },
  {
   "cell_type": "code",
   "execution_count": 27,
   "id": "7d853e35-6600-47c1-9b5d-3d11abddb7be",
   "metadata": {
    "tags": []
   },
   "outputs": [
    {
     "data": {
      "text/plain": [
       "4"
      ]
     },
     "execution_count": 27,
     "metadata": {},
     "output_type": "execute_result"
    }
   ],
   "source": [
    "score2"
   ]
  },
  {
   "cell_type": "code",
   "execution_count": 28,
   "id": "e55d9c71-21f7-40d5-a3d2-3f4680fe56f9",
   "metadata": {
    "tags": []
   },
   "outputs": [],
   "source": [
    "a = {\"red\", \"blue\", \"green\"}"
   ]
  },
  {
   "cell_type": "code",
   "execution_count": 29,
   "id": "fd35e31b-bd0d-47db-a921-0222a8f9d862",
   "metadata": {
    "tags": []
   },
   "outputs": [
    {
     "data": {
      "text/plain": [
       "{'blue', 'green', 'red'}"
      ]
     },
     "execution_count": 29,
     "metadata": {},
     "output_type": "execute_result"
    }
   ],
   "source": [
    "a"
   ]
  },
  {
   "cell_type": "code",
   "execution_count": 31,
   "id": "ceeaf026-a487-47c4-ba98-ca827b845ce4",
   "metadata": {
    "tags": []
   },
   "outputs": [],
   "source": [
    "a.add('Yellow')"
   ]
  },
  {
   "cell_type": "code",
   "execution_count": 32,
   "id": "b222ce5e-8777-4511-9b5d-5067ca8b1538",
   "metadata": {
    "tags": []
   },
   "outputs": [
    {
     "data": {
      "text/plain": [
       "{'Yellow', 'blue', 'green', 'red'}"
      ]
     },
     "execution_count": 32,
     "metadata": {},
     "output_type": "execute_result"
    }
   ],
   "source": [
    "a"
   ]
  },
  {
   "cell_type": "code",
   "execution_count": 33,
   "id": "26e2916a-438c-44e6-84ed-e4f76166886c",
   "metadata": {
    "tags": []
   },
   "outputs": [],
   "source": [
    "a.add('blue')"
   ]
  },
  {
   "cell_type": "code",
   "execution_count": 34,
   "id": "628dd796-0143-42d0-986b-5d94e83535c8",
   "metadata": {
    "tags": []
   },
   "outputs": [
    {
     "data": {
      "text/plain": [
       "{'Yellow', 'blue', 'green', 'red'}"
      ]
     },
     "execution_count": 34,
     "metadata": {},
     "output_type": "execute_result"
    }
   ],
   "source": [
    "a"
   ]
  },
  {
   "cell_type": "code",
   "execution_count": 35,
   "id": "ab157799-7ba3-4a49-8970-850aa35ada81",
   "metadata": {
    "tags": []
   },
   "outputs": [],
   "source": [
    "b = {6, 4, 5, 2}"
   ]
  },
  {
   "cell_type": "code",
   "execution_count": 36,
   "id": "14626a85-b11d-43aa-bee2-d49919b2fa77",
   "metadata": {
    "tags": []
   },
   "outputs": [
    {
     "data": {
      "text/plain": [
       "{2, 4, 5, 6}"
      ]
     },
     "execution_count": 36,
     "metadata": {},
     "output_type": "execute_result"
    }
   ],
   "source": [
    "b"
   ]
  },
  {
   "cell_type": "code",
   "execution_count": 37,
   "id": "aa39466f-ced7-4c44-8d41-f15443479e39",
   "metadata": {
    "tags": []
   },
   "outputs": [],
   "source": [
    "mylist = []"
   ]
  },
  {
   "cell_type": "code",
   "execution_count": 38,
   "id": "615b23a6-a2be-4c0a-a165-e357bb7bee15",
   "metadata": {
    "tags": []
   },
   "outputs": [],
   "source": [
    "myset = {}"
   ]
  },
  {
   "cell_type": "code",
   "execution_count": 39,
   "id": "7b3c0030-35b0-4b65-8812-864e7ccba898",
   "metadata": {
    "tags": []
   },
   "outputs": [
    {
     "data": {
      "text/plain": [
       "{}"
      ]
     },
     "execution_count": 39,
     "metadata": {},
     "output_type": "execute_result"
    }
   ],
   "source": [
    "myset"
   ]
  },
  {
   "cell_type": "code",
   "execution_count": 40,
   "id": "f74f81ef-f285-4cce-a885-ae181c8ca588",
   "metadata": {
    "tags": []
   },
   "outputs": [],
   "source": [
    "myset = set()"
   ]
  },
  {
   "cell_type": "code",
   "execution_count": 41,
   "id": "76c496fe-f151-4889-93dc-562961c393ae",
   "metadata": {
    "tags": []
   },
   "outputs": [
    {
     "data": {
      "text/plain": [
       "set()"
      ]
     },
     "execution_count": 41,
     "metadata": {},
     "output_type": "execute_result"
    }
   ],
   "source": [
    "myset"
   ]
  },
  {
   "cell_type": "code",
   "execution_count": null,
   "id": "02ff4fb6-2b52-4c04-b4dc-63ef7dbaa6ae",
   "metadata": {},
   "outputs": [],
   "source": []
  }
 ],
 "metadata": {
  "kernelspec": {
   "display_name": "Python 3 (ipykernel)",
   "language": "python",
   "name": "python3"
  },
  "language_info": {
   "codemirror_mode": {
    "name": "ipython",
    "version": 3
   },
   "file_extension": ".py",
   "mimetype": "text/x-python",
   "name": "python",
   "nbconvert_exporter": "python",
   "pygments_lexer": "ipython3",
   "version": "3.11.5"
  }
 },
 "nbformat": 4,
 "nbformat_minor": 5
}
