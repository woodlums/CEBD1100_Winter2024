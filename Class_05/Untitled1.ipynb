{
 "cells": [
  {
   "cell_type": "code",
   "execution_count": 1,
   "id": "cd066ff9-537b-4a11-b272-c2d7fd6fc5c0",
   "metadata": {
    "tags": []
   },
   "outputs": [],
   "source": [
    "# Do NOT use these as keys:  Floats, Boolean, list\n",
    "\n",
    "\n",
    "vals = {1: \"great\", 2: \"Good\"}"
   ]
  },
  {
   "cell_type": "code",
   "execution_count": 2,
   "id": "a747909d-46a1-4d12-aac6-bd727879bbc2",
   "metadata": {
    "tags": []
   },
   "outputs": [],
   "source": [
    "province_dict = {\"ON\": \"Ontario\", \"BC\": \"British Columbia\", \"MN\": \"Manitoba\", \"QC\": \"Quebec\"}"
   ]
  },
  {
   "cell_type": "code",
   "execution_count": 8,
   "id": "7b6ae11a-6770-4b76-9d32-11a473582bc4",
   "metadata": {
    "tags": []
   },
   "outputs": [
    {
     "name": "stdout",
     "output_type": "stream",
     "text": [
      "ON\n",
      "BC\n",
      "MN\n",
      "QC\n"
     ]
    }
   ],
   "source": [
    "for x in province_dict.keys():\n",
    "    print(x)"
   ]
  },
  {
   "cell_type": "code",
   "execution_count": 5,
   "id": "e6cbf855-bb3a-4fa3-8862-d1d2f72eb114",
   "metadata": {
    "tags": []
   },
   "outputs": [
    {
     "name": "stdout",
     "output_type": "stream",
     "text": [
      "Ontario\n",
      "British Columbia\n",
      "Manitoba\n",
      "Quebec\n"
     ]
    }
   ],
   "source": [
    "for x in province_dict.values():\n",
    "    print(x)"
   ]
  },
  {
   "cell_type": "raw",
   "id": "ea197ccb-5516-48ea-86bd-e981b8620002",
   "metadata": {},
   "source": [
    "for x in province_dict.items():\n",
    "    print(x)"
   ]
  },
  {
   "cell_type": "code",
   "execution_count": 6,
   "id": "0798d1c0-c682-440e-a57b-305e54863e57",
   "metadata": {
    "tags": []
   },
   "outputs": [
    {
     "name": "stdout",
     "output_type": "stream",
     "text": [
      "('ON', 'Ontario')\n",
      "('BC', 'British Columbia')\n",
      "('MN', 'Manitoba')\n",
      "('QC', 'Quebec')\n"
     ]
    }
   ],
   "source": [
    "for x in province_dict.items():\n",
    "    print(x)"
   ]
  },
  {
   "cell_type": "code",
   "execution_count": 7,
   "id": "4e58a4c2-2075-46cd-b1bf-dabfe0fa4e02",
   "metadata": {
    "tags": []
   },
   "outputs": [
    {
     "name": "stdout",
     "output_type": "stream",
     "text": [
      "Province code is ON and the province name is Ontario\n",
      "Province code is BC and the province name is British Columbia\n",
      "Province code is MN and the province name is Manitoba\n",
      "Province code is QC and the province name is Quebec\n"
     ]
    }
   ],
   "source": [
    "for (prov_code, prov_name) in province_dict.items():\n",
    "    print(f\"Province code is {prov_code} and the province name is {prov_name}\")"
   ]
  },
  {
   "cell_type": "code",
   "execution_count": 9,
   "id": "060fa5c5-6770-4ea4-840f-fabfca6f56f4",
   "metadata": {
    "tags": []
   },
   "outputs": [
    {
     "name": "stdout",
     "output_type": "stream",
     "text": [
      "Province code is ON and the province name is Ontario\n",
      "Province code is BC and the province name is British Columbia\n",
      "Province code is MN and the province name is Manitoba\n",
      "Province code is QC and the province name is Quebec\n"
     ]
    }
   ],
   "source": [
    "for p in province_dict.items():\n",
    "    print(f\"Province code is {p[0]} and the province name is {p[1]}\")"
   ]
  },
  {
   "cell_type": "code",
   "execution_count": 10,
   "id": "63c44165-e776-4926-98a5-e40ca48002cb",
   "metadata": {
    "tags": []
   },
   "outputs": [],
   "source": [
    "l = [\"a\", \"b\", \"c\"]"
   ]
  },
  {
   "cell_type": "code",
   "execution_count": 11,
   "id": "e4fb9319-d8e7-48a4-ba4c-6734657c6adc",
   "metadata": {
    "tags": []
   },
   "outputs": [
    {
     "data": {
      "text/plain": [
       "True"
      ]
     },
     "execution_count": 11,
     "metadata": {},
     "output_type": "execute_result"
    }
   ],
   "source": [
    "\"b\" in l"
   ]
  },
  {
   "cell_type": "code",
   "execution_count": 12,
   "id": "00430618-7cda-48db-9c9b-2948bc39a282",
   "metadata": {
    "tags": []
   },
   "outputs": [
    {
     "data": {
      "text/plain": [
       "True"
      ]
     },
     "execution_count": 12,
     "metadata": {},
     "output_type": "execute_result"
    }
   ],
   "source": [
    "\"QC\" in province_dict"
   ]
  },
  {
   "cell_type": "code",
   "execution_count": 13,
   "id": "50df9507-040e-491c-8d03-91717487b10d",
   "metadata": {
    "tags": []
   },
   "outputs": [
    {
     "data": {
      "text/plain": [
       "False"
      ]
     },
     "execution_count": 13,
     "metadata": {},
     "output_type": "execute_result"
    }
   ],
   "source": [
    "\"Quebec\" in province_dict"
   ]
  },
  {
   "cell_type": "code",
   "execution_count": null,
   "id": "74de95aa-e978-4b37-be0f-eae30fab398d",
   "metadata": {},
   "outputs": [],
   "source": []
  }
 ],
 "metadata": {
  "kernelspec": {
   "display_name": "Python 3 (ipykernel)",
   "language": "python",
   "name": "python3"
  },
  "language_info": {
   "codemirror_mode": {
    "name": "ipython",
    "version": 3
   },
   "file_extension": ".py",
   "mimetype": "text/x-python",
   "name": "python",
   "nbconvert_exporter": "python",
   "pygments_lexer": "ipython3",
   "version": "3.11.5"
  }
 },
 "nbformat": 4,
 "nbformat_minor": 5
}
