{
 "cells": [
  {
   "cell_type": "code",
   "execution_count": 1,
   "id": "076e03dd-e5c6-4051-8821-3227fa8a7127",
   "metadata": {
    "tags": []
   },
   "outputs": [],
   "source": [
    "student_list = {111:{\"Name\": \"Brendan\", \"Scores\": (1,2,3)}, 222:{\"Name\": \"Mary\", \"Scores\": (3,5,3)}}"
   ]
  },
  {
   "cell_type": "code",
   "execution_count": 2,
   "id": "0b03a7fa-af2c-44ab-8808-00e132059b2a",
   "metadata": {
    "tags": []
   },
   "outputs": [
    {
     "data": {
      "text/plain": [
       "{111: {'Name': 'Brendan', 'Scores': (1, 2, 3)},\n",
       " 222: {'Name': 'Mary', 'Scores': (3, 5, 3)}}"
      ]
     },
     "execution_count": 2,
     "metadata": {},
     "output_type": "execute_result"
    }
   ],
   "source": [
    "student_list"
   ]
  },
  {
   "cell_type": "code",
   "execution_count": 3,
   "id": "8618d164-95e4-428e-b434-4e6cbac6c085",
   "metadata": {
    "tags": []
   },
   "outputs": [
    {
     "data": {
      "text/plain": [
       "{'Name': 'Mary', 'Scores': (3, 5, 3)}"
      ]
     },
     "execution_count": 3,
     "metadata": {},
     "output_type": "execute_result"
    }
   ],
   "source": [
    "student_list[222]"
   ]
  },
  {
   "cell_type": "code",
   "execution_count": 11,
   "id": "a16aea57-558c-4cfb-bf69-72f403ecff07",
   "metadata": {
    "tags": []
   },
   "outputs": [
    {
     "data": {
      "text/plain": [
       "(3, 5, 3)"
      ]
     },
     "execution_count": 11,
     "metadata": {},
     "output_type": "execute_result"
    }
   ],
   "source": [
    "student_list[222][\"Scores\"]"
   ]
  },
  {
   "cell_type": "code",
   "execution_count": 12,
   "id": "3c51543f-c56d-4441-9f9e-c583abc0eb49",
   "metadata": {
    "tags": []
   },
   "outputs": [
    {
     "data": {
      "text/plain": [
       "5"
      ]
     },
     "execution_count": 12,
     "metadata": {},
     "output_type": "execute_result"
    }
   ],
   "source": [
    "max(student_list[222][\"Scores\"])"
   ]
  },
  {
   "cell_type": "code",
   "execution_count": null,
   "id": "d5ef6d08-ac52-487e-94b9-f0ca772161d9",
   "metadata": {},
   "outputs": [],
   "source": []
  }
 ],
 "metadata": {
  "kernelspec": {
   "display_name": "Python 3 (ipykernel)",
   "language": "python",
   "name": "python3"
  },
  "language_info": {
   "codemirror_mode": {
    "name": "ipython",
    "version": 3
   },
   "file_extension": ".py",
   "mimetype": "text/x-python",
   "name": "python",
   "nbconvert_exporter": "python",
   "pygments_lexer": "ipython3",
   "version": "3.11.5"
  }
 },
 "nbformat": 4,
 "nbformat_minor": 5
}
