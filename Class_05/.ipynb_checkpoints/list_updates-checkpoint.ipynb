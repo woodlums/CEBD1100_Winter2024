{
 "cells": [
  {
   "cell_type": "code",
   "execution_count": 15,
   "id": "ba68924b-d8cf-48df-970e-ba4469c00edf",
   "metadata": {
    "tags": []
   },
   "outputs": [],
   "source": [
    "quiz_scores = [(\"Brendan\", 7, 6, 8), (\"Mary\",8, 4, 6), (\"Xavier\",2, 6, 7)]"
   ]
  },
  {
   "cell_type": "code",
   "execution_count": 16,
   "id": "8e3603a0-8ffe-4fbd-b393-03487e6da6a5",
   "metadata": {
    "tags": []
   },
   "outputs": [
    {
     "name": "stdout",
     "output_type": "stream",
     "text": [
      "Student:Brendan: (7, 6, 8)\n",
      "Student:Mary: "
     ]
    },
    {
     "ename": "TypeError",
     "evalue": "'tuple' object does not support item assignment",
     "output_type": "error",
     "traceback": [
      "\u001b[1;31m---------------------------------------------------------------------------\u001b[0m",
      "\u001b[1;31mTypeError\u001b[0m                                 Traceback (most recent call last)",
      "Cell \u001b[1;32mIn[16], line 6\u001b[0m\n\u001b[0;32m      4\u001b[0m \u001b[38;5;28;01mfor\u001b[39;00m idx \u001b[38;5;129;01min\u001b[39;00m \u001b[38;5;28mrange\u001b[39m(\u001b[38;5;28mlen\u001b[39m(scores)):\n\u001b[0;32m      5\u001b[0m     \u001b[38;5;28;01mif\u001b[39;00m scores[idx] \u001b[38;5;241m<\u001b[39m \u001b[38;5;241m6\u001b[39m:\n\u001b[1;32m----> 6\u001b[0m         scores[idx] \u001b[38;5;241m=\u001b[39m \u001b[38;5;241m6.5\u001b[39m\n\u001b[0;32m      7\u001b[0m \u001b[38;5;28mprint\u001b[39m(scores)\n",
      "\u001b[1;31mTypeError\u001b[0m: 'tuple' object does not support item assignment"
     ]
    }
   ],
   "source": [
    "for student_rec in quiz_scores:\n",
    "    print(\"Student:\" + student_rec[0] + \": \", end=\"\")\n",
    "    scores = student_rec[1:4]\n",
    "    for idx in range(len(scores)):\n",
    "        if scores[idx] < 6:\n",
    "            scores[idx] = 6.5\n",
    "    print(scores)"
   ]
  },
  {
   "cell_type": "code",
   "execution_count": null,
   "id": "89e938d1-8bbb-44b9-8fbd-cce3daf14da6",
   "metadata": {},
   "outputs": [],
   "source": []
  }
 ],
 "metadata": {
  "kernelspec": {
   "display_name": "Python 3 (ipykernel)",
   "language": "python",
   "name": "python3"
  },
  "language_info": {
   "codemirror_mode": {
    "name": "ipython",
    "version": 3
   },
   "file_extension": ".py",
   "mimetype": "text/x-python",
   "name": "python",
   "nbconvert_exporter": "python",
   "pygments_lexer": "ipython3",
   "version": "3.11.5"
  }
 },
 "nbformat": 4,
 "nbformat_minor": 5
}
