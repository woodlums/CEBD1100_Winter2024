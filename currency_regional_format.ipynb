{
 "cells": [
  {
   "cell_type": "code",
   "execution_count": 2,
   "id": "0f7d5cfe-116d-4559-9085-2050c0247ce0",
   "metadata": {
    "tags": []
   },
   "outputs": [],
   "source": [
    "import babel.numbers"
   ]
  },
  {
   "cell_type": "code",
   "execution_count": 3,
   "id": "9ca5e343-2098-41ff-bcc2-b8d3f3605aad",
   "metadata": {
    "tags": []
   },
   "outputs": [],
   "source": [
    "import decimal"
   ]
  },
  {
   "cell_type": "code",
   "execution_count": 7,
   "id": "ead29c39-8996-4046-b2d6-dd6980caa6d7",
   "metadata": {
    "tags": []
   },
   "outputs": [],
   "source": []
  },
  {
   "cell_type": "code",
   "execution_count": 6,
   "id": "5f7fdf62-1091-40de-b8bf-1259c3e08f48",
   "metadata": {
    "tags": []
   },
   "outputs": [
    {
     "data": {
      "text/plain": [
       "'$999.99'"
      ]
     },
     "execution_count": 6,
     "metadata": {},
     "output_type": "execute_result"
    }
   ],
   "source": [
    "babel.numbers.format_currency(decimal.Decimal(\"999.99\"), 'USD', locale='en_US')"
   ]
  },
  {
   "cell_type": "code",
   "execution_count": 8,
   "id": "e41fbd1b-c9ff-4b5a-9f0b-0eec80495638",
   "metadata": {
    "tags": []
   },
   "outputs": [
    {
     "data": {
      "text/plain": [
       "'CA$999.99'"
      ]
     },
     "execution_count": 8,
     "metadata": {},
     "output_type": "execute_result"
    }
   ],
   "source": [
    "babel.numbers.format_currency(decimal.Decimal(\"999.99\"), 'CAD', locale='en_US')"
   ]
  },
  {
   "cell_type": "code",
   "execution_count": 9,
   "id": "42ea62c9-03e7-4569-aeee-a20d45c47eca",
   "metadata": {
    "tags": []
   },
   "outputs": [
    {
     "data": {
      "text/plain": [
       "'$999.99'"
      ]
     },
     "execution_count": 9,
     "metadata": {},
     "output_type": "execute_result"
    }
   ],
   "source": [
    "babel.numbers.format_currency(decimal.Decimal(\"999.99\"), 'CAD', locale='en_CA')"
   ]
  },
  {
   "cell_type": "code",
   "execution_count": null,
   "id": "1ec30ca3-6f3f-4c46-8cc7-97170cb1ef2e",
   "metadata": {},
   "outputs": [],
   "source": []
  }
 ],
 "metadata": {
  "kernelspec": {
   "display_name": "Python 3 (ipykernel)",
   "language": "python",
   "name": "python3"
  },
  "language_info": {
   "codemirror_mode": {
    "name": "ipython",
    "version": 3
   },
   "file_extension": ".py",
   "mimetype": "text/x-python",
   "name": "python",
   "nbconvert_exporter": "python",
   "pygments_lexer": "ipython3",
   "version": "3.11.5"
  }
 },
 "nbformat": 4,
 "nbformat_minor": 5
}
