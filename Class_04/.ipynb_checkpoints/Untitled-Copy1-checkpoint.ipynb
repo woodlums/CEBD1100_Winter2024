{
 "cells": [
  {
   "cell_type": "code",
   "execution_count": 1,
   "id": "bc7cc70e-8226-4b1d-90fa-3f80f70c56ad",
   "metadata": {
    "tags": []
   },
   "outputs": [],
   "source": [
    "my_list = [1,2,3]"
   ]
  },
  {
   "cell_type": "code",
   "execution_count": 2,
   "id": "ccaf9d16-94f5-4ae5-9f8d-fddcd2c1d774",
   "metadata": {
    "tags": []
   },
   "outputs": [],
   "source": [
    "my_list[1] = 9"
   ]
  },
  {
   "cell_type": "code",
   "execution_count": 3,
   "id": "267f9061-c814-4917-a221-816d616260b6",
   "metadata": {
    "tags": []
   },
   "outputs": [
    {
     "data": {
      "text/plain": [
       "[1, 9, 3]"
      ]
     },
     "execution_count": 3,
     "metadata": {},
     "output_type": "execute_result"
    }
   ],
   "source": [
    "my_list"
   ]
  },
  {
   "cell_type": "code",
   "execution_count": 4,
   "id": "38bbf9aa-5776-42b8-9d3d-bf3840f62af7",
   "metadata": {
    "tags": []
   },
   "outputs": [],
   "source": [
    "my_tup = (1, 2, 3)"
   ]
  },
  {
   "cell_type": "code",
   "execution_count": 5,
   "id": "30a25d25-f21a-497d-80e2-51f73ffeb76f",
   "metadata": {
    "tags": []
   },
   "outputs": [
    {
     "ename": "TypeError",
     "evalue": "'tuple' object does not support item assignment",
     "output_type": "error",
     "traceback": [
      "\u001b[1;31m---------------------------------------------------------------------------\u001b[0m",
      "\u001b[1;31mTypeError\u001b[0m                                 Traceback (most recent call last)",
      "Cell \u001b[1;32mIn[5], line 1\u001b[0m\n\u001b[1;32m----> 1\u001b[0m my_tup[\u001b[38;5;241m1\u001b[39m] \u001b[38;5;241m=\u001b[39m \u001b[38;5;241m8\u001b[39m\n",
      "\u001b[1;31mTypeError\u001b[0m: 'tuple' object does not support item assignment"
     ]
    }
   ],
   "source": [
    "my_tup[1] = 8"
   ]
  },
  {
   "cell_type": "code",
   "execution_count": 6,
   "id": "dedb58df-42f6-4c79-a007-4d58401d8f23",
   "metadata": {
    "tags": []
   },
   "outputs": [],
   "source": [
    "my_list.append(5)"
   ]
  },
  {
   "cell_type": "code",
   "execution_count": 7,
   "id": "8ba947f1-d6b6-45ea-a3a8-c93db0720f3b",
   "metadata": {
    "tags": []
   },
   "outputs": [
    {
     "data": {
      "text/plain": [
       "[1, 9, 3, 5]"
      ]
     },
     "execution_count": 7,
     "metadata": {},
     "output_type": "execute_result"
    }
   ],
   "source": [
    "my_list"
   ]
  },
  {
   "cell_type": "code",
   "execution_count": 8,
   "id": "7b9d72b5-5c16-4dac-ac8b-75ad93cbc6bb",
   "metadata": {
    "tags": []
   },
   "outputs": [],
   "source": [
    "morelist = [9, 10]"
   ]
  },
  {
   "cell_type": "code",
   "execution_count": 9,
   "id": "99a7e710-4b71-4766-aae8-9ef4f4a5177a",
   "metadata": {
    "tags": []
   },
   "outputs": [],
   "source": [
    "final_list = my_list + morelist"
   ]
  },
  {
   "cell_type": "code",
   "execution_count": 10,
   "id": "48d9b81d-cc27-4bab-811f-5501a0a662a5",
   "metadata": {
    "tags": []
   },
   "outputs": [
    {
     "data": {
      "text/plain": [
       "[1, 9, 3, 5, 9, 10]"
      ]
     },
     "execution_count": 10,
     "metadata": {},
     "output_type": "execute_result"
    }
   ],
   "source": [
    "final_list"
   ]
  },
  {
   "cell_type": "code",
   "execution_count": 11,
   "id": "ec744778-2c0e-4b61-ae15-df9e4f607ec1",
   "metadata": {
    "tags": []
   },
   "outputs": [],
   "source": [
    "del final_list[1]"
   ]
  },
  {
   "cell_type": "code",
   "execution_count": 12,
   "id": "50c04994-3d62-4695-85d3-57586a3a0c3a",
   "metadata": {
    "tags": []
   },
   "outputs": [
    {
     "data": {
      "text/plain": [
       "[1, 3, 5, 9, 10]"
      ]
     },
     "execution_count": 12,
     "metadata": {},
     "output_type": "execute_result"
    }
   ],
   "source": [
    "final_list"
   ]
  },
  {
   "cell_type": "code",
   "execution_count": 13,
   "id": "98bbac3c-c858-49a3-90d8-d626af205fac",
   "metadata": {
    "tags": []
   },
   "outputs": [],
   "source": [
    "del my_list"
   ]
  },
  {
   "cell_type": "code",
   "execution_count": 14,
   "id": "367d5e6a-49e0-4bde-9929-74d673ae1774",
   "metadata": {
    "tags": []
   },
   "outputs": [
    {
     "ename": "NameError",
     "evalue": "name 'my_list' is not defined",
     "output_type": "error",
     "traceback": [
      "\u001b[1;31m---------------------------------------------------------------------------\u001b[0m",
      "\u001b[1;31mNameError\u001b[0m                                 Traceback (most recent call last)",
      "Cell \u001b[1;32mIn[14], line 1\u001b[0m\n\u001b[1;32m----> 1\u001b[0m my_list\n",
      "\u001b[1;31mNameError\u001b[0m: name 'my_list' is not defined"
     ]
    }
   ],
   "source": [
    "my_list"
   ]
  },
  {
   "cell_type": "code",
   "execution_count": 15,
   "id": "f3100ee7-4721-4595-bb35-f56f0c5157d1",
   "metadata": {
    "tags": []
   },
   "outputs": [
    {
     "data": {
      "text/plain": [
       "7"
      ]
     },
     "execution_count": 15,
     "metadata": {},
     "output_type": "execute_result"
    }
   ],
   "source": [
    "len(\"Brendan\")"
   ]
  },
  {
   "cell_type": "code",
   "execution_count": 16,
   "id": "5b248c59-31dd-41ba-a6f8-8b05e6099fa0",
   "metadata": {
    "tags": []
   },
   "outputs": [
    {
     "data": {
      "text/plain": [
       "3"
      ]
     },
     "execution_count": 16,
     "metadata": {},
     "output_type": "execute_result"
    }
   ],
   "source": [
    "len([1,2,3])"
   ]
  },
  {
   "cell_type": "code",
   "execution_count": 17,
   "id": "3e3a4847-65cf-463a-8309-6c3adc1bbd4a",
   "metadata": {
    "tags": []
   },
   "outputs": [],
   "source": [
    "abc = [1, 2, 3, 3, 3, 2, 1]"
   ]
  },
  {
   "cell_type": "code",
   "execution_count": 18,
   "id": "2d0c56e9-4ef5-4cdd-97de-857933eadcce",
   "metadata": {
    "tags": []
   },
   "outputs": [],
   "source": [
    "abc.remove(2)"
   ]
  },
  {
   "cell_type": "code",
   "execution_count": 19,
   "id": "7ba46e09-cee8-4329-ad00-079e9fb4ec9c",
   "metadata": {
    "tags": []
   },
   "outputs": [
    {
     "data": {
      "text/plain": [
       "[1, 3, 3, 3, 2, 1]"
      ]
     },
     "execution_count": 19,
     "metadata": {},
     "output_type": "execute_result"
    }
   ],
   "source": [
    "abc"
   ]
  },
  {
   "cell_type": "code",
   "execution_count": 20,
   "id": "677c8016-c43d-40f5-900b-115afc57a05a",
   "metadata": {
    "tags": []
   },
   "outputs": [],
   "source": [
    "returnval = abc.pop(5)"
   ]
  },
  {
   "cell_type": "code",
   "execution_count": 21,
   "id": "80bfbbad-3e42-406e-aec2-fb0158e42b25",
   "metadata": {
    "tags": []
   },
   "outputs": [
    {
     "data": {
      "text/plain": [
       "1"
      ]
     },
     "execution_count": 21,
     "metadata": {},
     "output_type": "execute_result"
    }
   ],
   "source": [
    "returnval"
   ]
  },
  {
   "cell_type": "code",
   "execution_count": 22,
   "id": "90210aa6-7e08-4632-bf67-0185d5abc0c8",
   "metadata": {
    "tags": []
   },
   "outputs": [
    {
     "data": {
      "text/plain": [
       "[1, 3, 3, 3, 2]"
      ]
     },
     "execution_count": 22,
     "metadata": {},
     "output_type": "execute_result"
    }
   ],
   "source": [
    "abc"
   ]
  },
  {
   "cell_type": "code",
   "execution_count": null,
   "id": "9c7a9e5b-5580-44ce-8701-766c69d490bf",
   "metadata": {},
   "outputs": [],
   "source": []
  }
 ],
 "metadata": {
  "kernelspec": {
   "display_name": "Python 3 (ipykernel)",
   "language": "python",
   "name": "python3"
  },
  "language_info": {
   "codemirror_mode": {
    "name": "ipython",
    "version": 3
   },
   "file_extension": ".py",
   "mimetype": "text/x-python",
   "name": "python",
   "nbconvert_exporter": "python",
   "pygments_lexer": "ipython3",
   "version": "3.11.5"
  }
 },
 "nbformat": 4,
 "nbformat_minor": 5
}
