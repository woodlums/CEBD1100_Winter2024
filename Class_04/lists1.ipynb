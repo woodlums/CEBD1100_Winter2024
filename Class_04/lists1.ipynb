{
 "cells": [
  {
   "cell_type": "code",
   "execution_count": 1,
   "id": "06bdb3c3-8a0e-4814-bb15-f8d418f620ac",
   "metadata": {
    "tags": []
   },
   "outputs": [],
   "source": [
    "list_1 = [1, 2, 3]"
   ]
  },
  {
   "cell_type": "code",
   "execution_count": 2,
   "id": "f47f7447-3872-485b-8902-2eb448674f14",
   "metadata": {
    "tags": []
   },
   "outputs": [
    {
     "data": {
      "text/plain": [
       "[1, 2, 3]"
      ]
     },
     "execution_count": 2,
     "metadata": {},
     "output_type": "execute_result"
    }
   ],
   "source": [
    "list_1"
   ]
  },
  {
   "cell_type": "code",
   "execution_count": 3,
   "id": "40dca9cb-dd63-48e5-aae7-d3a46fd29113",
   "metadata": {
    "tags": []
   },
   "outputs": [],
   "source": [
    "tuple_1 = (1,2,3)"
   ]
  },
  {
   "cell_type": "code",
   "execution_count": 4,
   "id": "8717f50f-0243-4a94-a5ae-1c0ffc315fd5",
   "metadata": {
    "tags": []
   },
   "outputs": [
    {
     "data": {
      "text/plain": [
       "(1, 2, 3)"
      ]
     },
     "execution_count": 4,
     "metadata": {},
     "output_type": "execute_result"
    }
   ],
   "source": [
    "tuple_1"
   ]
  },
  {
   "cell_type": "code",
   "execution_count": 5,
   "id": "c2d0f67a-41c1-4656-a465-96cba0da8ff1",
   "metadata": {
    "tags": []
   },
   "outputs": [],
   "source": [
    "dict_1 = {\"QC\": \"Quebec\", \"ON\": \"Ontario\"}"
   ]
  },
  {
   "cell_type": "code",
   "execution_count": 6,
   "id": "2a62f95c-2708-4e6c-bc96-36852d28be71",
   "metadata": {
    "tags": []
   },
   "outputs": [],
   "source": [
    "set_1 = set()"
   ]
  },
  {
   "cell_type": "code",
   "execution_count": 7,
   "id": "e222c3e9-2d95-457b-b111-14f0c6abe009",
   "metadata": {
    "tags": []
   },
   "outputs": [],
   "source": [
    "set_1.add(1)"
   ]
  },
  {
   "cell_type": "code",
   "execution_count": 8,
   "id": "ba334c79-83b5-4d4a-b958-b203b15b6cc6",
   "metadata": {
    "tags": []
   },
   "outputs": [
    {
     "data": {
      "text/plain": [
       "{1}"
      ]
     },
     "execution_count": 8,
     "metadata": {},
     "output_type": "execute_result"
    }
   ],
   "source": [
    "set_1"
   ]
  },
  {
   "cell_type": "code",
   "execution_count": 9,
   "id": "01c51a77-74e7-4d2b-a577-925b1bc10805",
   "metadata": {
    "tags": []
   },
   "outputs": [],
   "source": [
    "set_1.add(2)"
   ]
  },
  {
   "cell_type": "code",
   "execution_count": 10,
   "id": "c1d5bbaa-0dbb-4361-81f1-4e273e217441",
   "metadata": {
    "tags": []
   },
   "outputs": [],
   "source": [
    "set_1.add(2)"
   ]
  },
  {
   "cell_type": "code",
   "execution_count": 11,
   "id": "d745cbfb-0b0a-47e6-a258-8a1514e6f764",
   "metadata": {
    "tags": []
   },
   "outputs": [
    {
     "data": {
      "text/plain": [
       "{1, 2}"
      ]
     },
     "execution_count": 11,
     "metadata": {},
     "output_type": "execute_result"
    }
   ],
   "source": [
    "set_1"
   ]
  },
  {
   "cell_type": "code",
   "execution_count": 14,
   "id": "abca0cd3-9da2-496c-8676-2a87ebd26582",
   "metadata": {
    "tags": []
   },
   "outputs": [],
   "source": [
    "alist = [1, 42, \"Hello\"]"
   ]
  },
  {
   "cell_type": "code",
   "execution_count": 15,
   "id": "7db42c0b-0fc4-421b-a130-cf414eabcb02",
   "metadata": {
    "tags": []
   },
   "outputs": [
    {
     "data": {
      "text/plain": [
       "42"
      ]
     },
     "execution_count": 15,
     "metadata": {},
     "output_type": "execute_result"
    }
   ],
   "source": [
    "alist[1]"
   ]
  },
  {
   "cell_type": "code",
   "execution_count": 13,
   "id": "9c1ff14d-ffee-4f2e-ab7e-7f87a00a1ed2",
   "metadata": {
    "tags": []
   },
   "outputs": [],
   "source": [
    "blist = [1, 42, \"Hello\", [\"a\", \"b\", \"c\"], 2, 3]"
   ]
  },
  {
   "cell_type": "code",
   "execution_count": 24,
   "id": "4b38694d-c5e7-4422-910f-27ad62a1b486",
   "metadata": {
    "tags": []
   },
   "outputs": [
    {
     "ename": "TypeError",
     "evalue": "list indices must be integers or slices, not float",
     "output_type": "error",
     "traceback": [
      "\u001b[1;31m---------------------------------------------------------------------------\u001b[0m",
      "\u001b[1;31mTypeError\u001b[0m                                 Traceback (most recent call last)",
      "Cell \u001b[1;32mIn[24], line 1\u001b[0m\n\u001b[1;32m----> 1\u001b[0m blist[\u001b[38;5;28mlen\u001b[39m(blist)\u001b[38;5;241m/\u001b[39m\u001b[38;5;241m2\u001b[39m]\n",
      "\u001b[1;31mTypeError\u001b[0m: list indices must be integers or slices, not float"
     ]
    }
   ],
   "source": [
    "blist[len(blist)/2]"
   ]
  },
  {
   "cell_type": "code",
   "execution_count": 16,
   "id": "6c13c353-6010-4510-a7ef-dc720a24bba7",
   "metadata": {
    "tags": []
   },
   "outputs": [
    {
     "data": {
      "text/plain": [
       "'b'"
      ]
     },
     "execution_count": 16,
     "metadata": {},
     "output_type": "execute_result"
    }
   ],
   "source": [
    "blist[3][1]"
   ]
  },
  {
   "cell_type": "code",
   "execution_count": 17,
   "id": "fcf4f7a0-2ee5-4c34-9888-836f33978108",
   "metadata": {
    "tags": []
   },
   "outputs": [
    {
     "data": {
      "text/plain": [
       "['a', 'b', 'c']"
      ]
     },
     "execution_count": 17,
     "metadata": {},
     "output_type": "execute_result"
    }
   ],
   "source": [
    "blist[3]"
   ]
  },
  {
   "cell_type": "code",
   "execution_count": 18,
   "id": "4352f7ca-a988-4203-9a7e-a0b09c23c6c8",
   "metadata": {
    "tags": []
   },
   "outputs": [
    {
     "data": {
      "text/plain": [
       "6"
      ]
     },
     "execution_count": 18,
     "metadata": {},
     "output_type": "execute_result"
    }
   ],
   "source": [
    "len(blist)"
   ]
  },
  {
   "cell_type": "code",
   "execution_count": 19,
   "id": "5dd09f35-4e9d-489e-92d7-6ba051dafc96",
   "metadata": {
    "tags": []
   },
   "outputs": [
    {
     "data": {
      "text/plain": [
       "2"
      ]
     },
     "execution_count": 19,
     "metadata": {},
     "output_type": "execute_result"
    }
   ],
   "source": [
    "blist[-2]"
   ]
  },
  {
   "cell_type": "code",
   "execution_count": 21,
   "id": "74f6d792-3fb3-48e7-93d0-a28b11225538",
   "metadata": {
    "tags": []
   },
   "outputs": [
    {
     "data": {
      "text/plain": [
       "[2, 3]"
      ]
     },
     "execution_count": 21,
     "metadata": {},
     "output_type": "execute_result"
    }
   ],
   "source": [
    "blist[-2:]"
   ]
  },
  {
   "cell_type": "code",
   "execution_count": 23,
   "id": "92901954-c919-4eea-b7c7-2be4975f9852",
   "metadata": {
    "tags": []
   },
   "outputs": [
    {
     "data": {
      "text/plain": [
       "'Hello'"
      ]
     },
     "execution_count": 23,
     "metadata": {},
     "output_type": "execute_result"
    }
   ],
   "source": [
    "blist[2]"
   ]
  },
  {
   "cell_type": "code",
   "execution_count": null,
   "id": "1e7f6dcd-6605-4deb-9b04-981b5cf92e25",
   "metadata": {},
   "outputs": [],
   "source": []
  }
 ],
 "metadata": {
  "kernelspec": {
   "display_name": "Python 3 (ipykernel)",
   "language": "python",
   "name": "python3"
  },
  "language_info": {
   "codemirror_mode": {
    "name": "ipython",
    "version": 3
   },
   "file_extension": ".py",
   "mimetype": "text/x-python",
   "name": "python",
   "nbconvert_exporter": "python",
   "pygments_lexer": "ipython3",
   "version": "3.11.5"
  }
 },
 "nbformat": 4,
 "nbformat_minor": 5
}
